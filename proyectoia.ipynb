import google.generativeai as genai

# Configuración del modelo

genai.configure(api_key="MI-API-KAY")
model = genai.GenerativeModel("gemini-1.5-flash")

# Contexto del proyecto: nutricionista IA aplicado a rutinas saludables
context = """
Toma el rol de un nutricionista avanzado y generá un plan semanal saludable con los ingredientes que elija el usuario.
Además, proponé recomendaciones de rutinas diarias (ejercicio, descanso, hábitos saludables) para acompañar la alimentación.
"""

# Clase principal de Nutricionista
class Nutri:
    def __init__(self, nombre_tuyo, experiencia):
        self.nombre = nombre_tuyo
        self.experiencia = experiencia

    def presentacion(self):
        print(f"Soy {self.nombre}, nutricionista {self.experiencia}. Estoy acá para ayudarte a crear un plan saludable basado en lo que tengas en tu cocina y en tus objetivos.")

# Instancia del nutricionista
nutri_avanzado = Nutri("Juli", "con 20 años de experiencia")
nutri_avanzado.presentacion()

# Recolección de ingredientes del usuario
menu = []

while True:
    ingrediente = input("Ingrese un ingrediente: ")
    menu.append(ingrediente)

    agregar_otro = input("¿Desea agregar otro ingrediente? (si/no): ")
    if agregar_otro.lower() != 'si':
        break

print("\nIngredientes seleccionados:", menu)

# Generación de recetas y plan de rutina usando Gemini
prompt = f"Genera un plan semanal de comidas saludables usando estos ingredientes: {menu}. Además, incluye una rutina diaria de hábitos y ejercicios para acompañar la alimentación."

response = model.generate_content(prompt)

print("\n=== Plan Semanal y Rutina Saludable ===\n")
print(response.text)
